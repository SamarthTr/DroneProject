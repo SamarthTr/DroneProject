{
 "cells": [
  {
   "cell_type": "code",
   "execution_count": 3,
   "id": "f2dc3b42",
   "metadata": {},
   "outputs": [],
   "source": [
    "import numpy as np\n",
    "import matplotlib.pyplot as plt\n",
    "import adi\n",
    "import scipy\n",
    "from scipy import signal\n",
    "import matplotlib \n",
    "from pylab import *"
   ]
  },
  {
   "cell_type": "code",
   "execution_count": null,
   "id": "33bac205",
   "metadata": {},
   "outputs": [],
   "source": [
    "#function to receive files of PlutoSDR\n",
    "def PlutoRX(center_freq,sample_rate,num_samps):\n",
    "    sdr = adi.Pluto()\n",
    "    sdr.gain_control_mode_chan0 = 'manual'\n",
    "    sdr.rx_hardwaregain_chan0 = 70.0 # dB\n",
    "    sdr.rx_lo = int(center_freq)\n",
    "    sdr.sample_rate = int(sample_rate)\n",
    "    sdr.rx_rf_bandwidth = int(sample_rate) # filter width, just set it to the same as sample rate for now\n",
    "    sdr.rx_buffer_size = num_samps\n",
    "\n",
    "    samples = sdr.rx() # receive samples off Pluto\n",
    "    return samples"
   ]
  },
  {
   "cell_type": "code",
   "execution_count": null,
   "id": "9f42e77c",
   "metadata": {},
   "outputs": [],
   "source": [
    "def Averagepow(lst):\n",
    "    return sum(lst) / len(lst)"
   ]
  },
  {
   "cell_type": "code",
   "execution_count": null,
   "id": "a58bec31",
   "metadata": {},
   "outputs": [],
   "source": [
    "#function to plot constellation diagram and psd\n",
    "def plotter(samples,center_freq,sample_rate):\n",
    "    # use matplotlib to estimate and plot the PSD\n",
    "    psd(samples, NFFT=1024, Fs=sample_rate, Fc=center_freq)\n",
    "    xlabel('Frequency (MHz)')\n",
    "    ylabel('Relative power (dB)')\n",
    "    show()\n",
    "\n",
    "    #extract real part\n",
    "    x = [ele.real for ele in samples]\n",
    "    # extract imaginary part\n",
    "    y = [ele.imag for ele in samples]\n",
    "\n",
    "    # plot the complex numbers\n",
    "    plt.scatter(x, y)\n",
    "    plt.ylabel('Imaginary')\n",
    "    plt.xlabel('Real')\n",
    "    plt.show()\n",
    "\n",
    "    print(abs(samples))\n",
    "    print(np.average(samples))\n"
   ]
  },
  {
   "cell_type": "code",
   "execution_count": null,
   "id": "71321578",
   "metadata": {},
   "outputs": [],
   "source": [
    "# A function to be applied to the array\n",
    "def dbconv(num):\n",
    "    return 10*log10(num)"
   ]
  },
  {
   "cell_type": "code",
   "execution_count": null,
   "id": "93d2de00",
   "metadata": {},
   "outputs": [],
   "source": [
    "# A function to convert into MHz\n",
    "def MHz(freq):\n",
    "    return freq*1000000"
   ]
  },
  {
   "cell_type": "code",
   "execution_count": null,
   "id": "eb7ac458",
   "metadata": {},
   "outputs": [],
   "source": [
    "# A function to take average power \n",
    "def averagepower(samples):\n",
    "    trial = np.square(abs(samples))\n",
    "    trialavg = np.average(trial)\n",
    "    # Apply our function to array. \n",
    "    valindb = np.vectorize(dbconv)\n",
    "    trialdb = valindb(trial)\n",
    "    # printing the array after applying function\n",
    "    print(\"Centre Frequency = \", MHz(cf))\n",
    "    print(\" The power of all samples in dB =  \" , trialdb)\n",
    "    print(\" The average power of all samples in dB =  \" , dbconv(trialavg))\n",
    "    return dbconv(trialavg)"
   ]
  },
  {
   "cell_type": "code",
   "execution_count": null,
   "id": "593337c1",
   "metadata": {},
   "outputs": [],
   "source": [
    "# Block to specify parameters\n",
    "samplerate = 1e6 # Hz\n",
    "centerfrequency = 100e6 # Hz\n",
    "numsamps = 10000 # number of samples returned per call to rx()\n",
    "\n",
    "# To give parameters to our functions\n",
    "samples = PlutoRX(centerfrequency,samplerate,numsamps)\n",
    "plotter(samples,centerfrequency,samplerate)\n",
    "averagepower(samples)"
   ]
  },
  {
   "cell_type": "code",
   "execution_count": null,
   "id": "17fb3e98",
   "metadata": {},
   "outputs": [],
   "source": [
    "for i in range (89,109,2):\n",
    "    averagepower(PlutoRX(MHz(i),samplerate,numsamps))"
   ]
  },
  {
   "cell_type": "code",
   "execution_count": null,
   "id": "4a393e85",
   "metadata": {},
   "outputs": [],
   "source": [
    "arrayofpowers = []\n",
    "for i in range (89,109,2):\n",
    "    arrayofpowers.append(averagepower(samples)) "
   ]
  },
  {
   "cell_type": "code",
   "execution_count": null,
   "id": "8fdf0f45",
   "metadata": {},
   "outputs": [],
   "source": [
    "print(arrayofpowers)"
   ]
  },
  {
   "cell_type": "code",
   "execution_count": null,
   "id": "ff66d036",
   "metadata": {},
   "outputs": [],
   "source": [
    "listofpowers = []\n",
    "for i in range (89,109,2):\n",
    "    listofpowers.append(averagepower(i)) \n",
    "print(listofpowers)"
   ]
  },
  {
   "cell_type": "code",
   "execution_count": null,
   "id": "f6781123",
   "metadata": {},
   "outputs": [],
   "source": [
    "Threshold = Averagepow(listofpowers) + (10*log10(1/0.9))\n",
    "print(Threshold)"
   ]
  },
  {
   "cell_type": "code",
   "execution_count": null,
   "id": "3bbc50fc",
   "metadata": {},
   "outputs": [],
   "source": [
    "len(listofpowers)"
   ]
  },
  {
   "cell_type": "code",
   "execution_count": null,
   "id": "cae36867",
   "metadata": {},
   "outputs": [],
   "source": [
    "sum(listofpowers)"
   ]
  }
 ],
 "metadata": {
  "kernelspec": {
   "display_name": "Python 3 (ipykernel)",
   "language": "python",
   "name": "python3"
  },
  "language_info": {
   "codemirror_mode": {
    "name": "ipython",
    "version": 3
   },
   "file_extension": ".py",
   "mimetype": "text/x-python",
   "name": "python",
   "nbconvert_exporter": "python",
   "pygments_lexer": "ipython3",
   "version": "3.9.12"
  }
 },
 "nbformat": 4,
 "nbformat_minor": 5
}
