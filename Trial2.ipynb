{
 "cells": [
  {
   "cell_type": "code",
   "execution_count": 1,
   "id": "755165dd",
   "metadata": {},
   "outputs": [],
   "source": [
    "import numpy as np\n",
    "import matplotlib.pyplot as plt\n",
    "\n",
    "import scipy\n",
    "from scipy import signal"
   ]
  },
  {
   "cell_type": "code",
   "execution_count": 16,
   "id": "8d1554a2",
   "metadata": {},
   "outputs": [
    {
     "name": "stderr",
     "output_type": "stream",
     "text": [
      "Found Rafael Micro R820T tuner\n",
      "[R82XX] PLL not locked!\n",
      "Exact sample rate is: 1000000.026491 Hz\n"
     ]
    },
    {
     "data": {
      "image/png": "[encoded data removed]",
      "text/plain": [
       "<Figure size 432x288 with 1 Axes>"
      ]
     },
     "metadata": {
      "needs_background": "light"
     },
     "output_type": "display_data"
    },
    {
     "data": {
      "image/png": "[encoded data removed]",
      "text/plain": [
       "<Figure size 432x288 with 1 Axes>"
      ]
     },
     "metadata": {
      "needs_background": "light"
     },
     "output_type": "display_data"
    },
    {
     "name": "stdout",
     "output_type": "stream",
     "text": [
      "[0.00554594 0.00554594 0.00554594 ... 0.00554594 0.00554594 0.00554594]\n",
      "(-0.0015019136316635976-0.0014991760253906198j)\n"
     ]
    }
   ],
   "source": [
    "from pylab import *\n",
    "from rtlsdr import *\n",
    "import numpy\n",
    "import matplotlib \n",
    "\n",
    "sdr = RtlSdr()\n",
    "\n",
    "# configure device\n",
    "sdr.sample_rate = 1e6\n",
    "sdr.center_freq = 94.3e6\n",
    "sdr.gain = 4\n",
    "\n",
    "samples = sdr.read_samples(512*1024)\n",
    "sdr.close()\n",
    "\n",
    "# use matplotlib to estimate and plot the PSD\n",
    "psd(samples, NFFT=1024, Fs=sdr.sample_rate, Fc=sdr.center_freq)\n",
    "xlabel('Frequency (MHz)')\n",
    "ylabel('Relative power (dB)')\n",
    "show()\n",
    "\n",
    "#extract real part\n",
    "x = [ele.real for ele in samples]\n",
    "# extract imaginary part\n",
    "y = [ele.imag for ele in samples]\n",
    "  \n",
    "# plot the complex numbers\n",
    "plt.scatter(x, y)\n",
    "plt.ylabel('Imaginary')\n",
    "plt.xlabel('Real')\n",
    "plt.show()\n",
    "\n",
    "print(abs(samples))\n",
    "print(np.average(samples))\n"
   ]
  },
  {
   "cell_type": "code",
   "execution_count": 22,
   "id": "04512ecd",
   "metadata": {},
   "outputs": [
    {
     "name": "stderr",
     "output_type": "stream",
     "text": [
      "Found Rafael Micro R820T tuner\n",
      "[R82XX] PLL not locked!\n",
      "Exact sample rate is: 2000000.052982 Hz\n"
     ]
    },
    {
     "name": "stdout",
     "output_type": "stream",
     "text": [
      "[3.0757401e-05 3.0757401e-05 3.0757401e-05 ... 3.0757401e-05 3.0757401e-05\n",
      " 3.0757401e-05]\n",
      "3.242002822306901e-05\n",
      " The power of all samples in dB :  [-45.12050365 -45.12050365 -45.12050365 ... -45.12050365 -45.12050365\n",
      " -45.12050365]\n",
      " The average power of all samples in dB :  -44.891866114147774\n"
     ]
    }
   ],
   "source": [
    "from pylab import *\n",
    "from rtlsdr import *\n",
    "import numpy\n",
    "import matplotlib \n",
    "\n",
    "sdr = RtlSdr()\n",
    "\n",
    "# configure device\n",
    "sdr.sample_rate = 2e6\n",
    "sdr.center_freq = 94.3e6\n",
    "sdr.gain = 1\n",
    "\n",
    "samples = sdr.read_samples(1024*4096)\n",
    "sdr.close()\n",
    "trialavg = np.average(trial)\n",
    "trial = np.square(abs(samples))\n",
    "print(trial)\n",
    "print(trialavg)\n",
    "\n",
    "\n",
    "\n",
    "# A function to be applied to the array\n",
    "def dbconv(num):\n",
    "    return 10*log10(num)\n",
    "# Apply add() function to array. \n",
    "valindb = np.vectorize(dbconv)\n",
    "trialdb = valindb(trial)\n",
    "# printing the array after applying function\n",
    "print(\" The power of all samples in dB : \" , trialdb)\n",
    "print(\" The average power of all samples in dB : \" , dbconv(trialavg))\n"
   ]
  },
  {
   "cell_type": "code",
   "execution_count": 44,
   "id": "88f84334",
   "metadata": {},
   "outputs": [],
   "source": [
    "# A function to be applied to the array\n",
    "def dbconv(num):\n",
    "    return 10*log10(num)\n",
    "\n",
    "# A function to convert into MHz\n",
    "def MHz(freq):\n",
    "    return freq*1000000\n",
    "\n",
    "def averagepower(cf):\n",
    "    sdr = RtlSdr()\n",
    "\n",
    "    # configure device\n",
    "    sdr.sample_rate = 2e6\n",
    "    sdr.center_freq = MHz(cf)\n",
    "    sdr.gain = 1\n",
    "\n",
    "    samples = sdr.read_samples(1024*4096)\n",
    "    sdr.close()\n",
    "    trial = np.square(abs(samples))\n",
    "    trialavg = np.average(trial)\n",
    "    \n",
    "    #print(trial)\n",
    "    #print(trialavg)\n",
    "\n",
    "    # Apply add() function to array. \n",
    "    valindb = np.vectorize(dbconv)\n",
    "    trialdb = valindb(trial)\n",
    "    # printing the array after applying function\n",
    "    print(\"Centre Frequency = \", MHz(cf))\n",
    "    print(\" The power of all samples in dB =  \" , trialdb)\n",
    "    print(\" The average power of all samples in dB =  \" , dbconv(trialavg))\n",
    "    return dbconv(trialavg)"
   ]
  },
  {
   "cell_type": "code",
   "execution_count": 27,
   "id": "5cb626ae",
   "metadata": {},
   "outputs": [
    {
     "name": "stderr",
     "output_type": "stream",
     "text": [
      "Found Rafael Micro R820T tuner\n",
      "[R82XX] PLL not locked!\n",
      "Exact sample rate is: 2000000.052982 Hz\n"
     ]
    },
    {
     "name": "stdout",
     "output_type": "stream",
     "text": [
      "[3.0757401e-05 3.0757401e-05 3.0757401e-05 ... 3.0757401e-05 3.0757401e-05\n",
      " 3.0757401e-05]\n",
      "3.2435926461577076e-05\n",
      " The power of all samples in dB :  [-45.12050365 -45.12050365 -45.12050365 ... -45.12050365 -45.12050365\n",
      " -45.12050365]\n",
      " The average power of all samples in dB :  -44.88973692880839\n"
     ]
    }
   ],
   "source": [
    "averagepower(94.3e6)"
   ]
  },
  {
   "cell_type": "code",
   "execution_count": 39,
   "id": "fce789f5",
   "metadata": {},
   "outputs": [
    {
     "name": "stderr",
     "output_type": "stream",
     "text": [
      "Found Rafael Micro R820T tuner\n",
      "[R82XX] PLL not locked!\n",
      "Exact sample rate is: 2000000.052982 Hz\n"
     ]
    },
    {
     "name": "stdout",
     "output_type": "stream",
     "text": [
      "Centre Frequency =  89000000\n",
      " The power of all samples in dB =   [-45.12050365 -45.12050365 -45.12050365 ... -45.12050365 -45.12050365\n",
      " -45.12050365]\n",
      " The average power of all samples in dB =   -44.890086483559955\n"
     ]
    },
    {
     "name": "stderr",
     "output_type": "stream",
     "text": [
      "Found Rafael Micro R820T tuner\n",
      "[R82XX] PLL not locked!\n",
      "Exact sample rate is: 2000000.052982 Hz\n"
     ]
    },
    {
     "name": "stdout",
     "output_type": "stream",
     "text": [
      "Centre Frequency =  91000000\n",
      " The power of all samples in dB =   [-45.12050365 -45.12050365 -45.12050365 ... -45.12050365 -45.12050365\n",
      " -45.12050365]\n",
      " The average power of all samples in dB =   -44.8880406132165\n"
     ]
    },
    {
     "name": "stderr",
     "output_type": "stream",
     "text": [
      "Found Rafael Micro R820T tuner\n",
      "[R82XX] PLL not locked!\n",
      "Exact sample rate is: 2000000.052982 Hz\n"
     ]
    },
    {
     "name": "stdout",
     "output_type": "stream",
     "text": [
      "Centre Frequency =  93000000\n",
      " The power of all samples in dB =   [-45.12050365 -45.12050365 -45.12050365 ... -45.12050365 -45.12050365\n",
      " -45.12050365]\n",
      " The average power of all samples in dB =   -44.89330449418378\n"
     ]
    },
    {
     "name": "stderr",
     "output_type": "stream",
     "text": [
      "Found Rafael Micro R820T tuner\n",
      "[R82XX] PLL not locked!\n",
      "Exact sample rate is: 2000000.052982 Hz\n"
     ]
    },
    {
     "name": "stdout",
     "output_type": "stream",
     "text": [
      "Centre Frequency =  95000000\n",
      " The power of all samples in dB =   [-45.12050365 -45.12050365 -45.12050365 ... -45.12050365 -45.12050365\n",
      " -45.12050365]\n",
      " The average power of all samples in dB =   -44.89284463236707\n"
     ]
    },
    {
     "name": "stderr",
     "output_type": "stream",
     "text": [
      "Found Rafael Micro R820T tuner\n",
      "[R82XX] PLL not locked!\n",
      "Exact sample rate is: 2000000.052982 Hz\n"
     ]
    },
    {
     "name": "stdout",
     "output_type": "stream",
     "text": [
      "Centre Frequency =  97000000\n",
      " The power of all samples in dB =   [-45.12050365 -45.12050365 -45.12050365 ... -45.12050365 -45.12050365\n",
      " -45.12050365]\n",
      " The average power of all samples in dB =   -44.89062068899167\n"
     ]
    },
    {
     "name": "stderr",
     "output_type": "stream",
     "text": [
      "Found Rafael Micro R820T tuner\n",
      "[R82XX] PLL not locked!\n",
      "Exact sample rate is: 2000000.052982 Hz\n"
     ]
    },
    {
     "name": "stdout",
     "output_type": "stream",
     "text": [
      "Centre Frequency =  99000000\n",
      " The power of all samples in dB =   [-45.12050365 -45.12050365 -45.12050365 ... -45.12050365 -45.12050365\n",
      " -45.12050365]\n",
      " The average power of all samples in dB =   -44.89183860878932\n"
     ]
    },
    {
     "name": "stderr",
     "output_type": "stream",
     "text": [
      "Found Rafael Micro R820T tuner\n",
      "[R82XX] PLL not locked!\n",
      "Exact sample rate is: 2000000.052982 Hz\n"
     ]
    },
    {
     "name": "stdout",
     "output_type": "stream",
     "text": [
      "Centre Frequency =  101000000\n",
      " The power of all samples in dB =   [-45.12050365 -45.12050365 -45.12050365 ... -45.12050365 -45.12050365\n",
      " -45.12050365]\n",
      " The average power of all samples in dB =   -44.89102138619215\n"
     ]
    },
    {
     "name": "stderr",
     "output_type": "stream",
     "text": [
      "Found Rafael Micro R820T tuner\n",
      "[R82XX] PLL not locked!\n",
      "Exact sample rate is: 2000000.052982 Hz\n"
     ]
    },
    {
     "name": "stdout",
     "output_type": "stream",
     "text": [
      "Centre Frequency =  103000000\n",
      " The power of all samples in dB =   [-45.12050365 -45.12050365 -45.12050365 ... -45.12050365 -45.12050365\n",
      " -45.12050365]\n",
      " The average power of all samples in dB =   -44.89034572210693\n"
     ]
    },
    {
     "name": "stderr",
     "output_type": "stream",
     "text": [
      "Found Rafael Micro R820T tuner\n",
      "[R82XX] PLL not locked!\n",
      "Exact sample rate is: 2000000.052982 Hz\n"
     ]
    },
    {
     "name": "stdout",
     "output_type": "stream",
     "text": [
      "Centre Frequency =  105000000\n",
      " The power of all samples in dB =   [-45.12050365 -45.12050365 -45.12050365 ... -45.12050365 -45.12050365\n",
      " -45.12050365]\n",
      " The average power of all samples in dB =   -44.89238088942172\n"
     ]
    },
    {
     "name": "stderr",
     "output_type": "stream",
     "text": [
      "Found Rafael Micro R820T tuner\n",
      "[R82XX] PLL not locked!\n",
      "Exact sample rate is: 2000000.052982 Hz\n"
     ]
    },
    {
     "name": "stdout",
     "output_type": "stream",
     "text": [
      "Centre Frequency =  107000000\n",
      " The power of all samples in dB =   [-45.12050365 -45.12050365 -45.12050365 ... -45.12050365 -45.12050365\n",
      " -45.12050365]\n",
      " The average power of all samples in dB =   -44.89159499750434\n"
     ]
    }
   ],
   "source": [
    "for i in range (89,109,2):\n",
    "    averagepower(i)"
   ]
  },
  {
   "cell_type": "code",
   "execution_count": 42,
   "id": "0dbb47cc",
   "metadata": {},
   "outputs": [
    {
     "name": "stderr",
     "output_type": "stream",
     "text": [
      "Found Rafael Micro R820T tuner\n",
      "[R82XX] PLL not locked!\n",
      "Exact sample rate is: 2000000.052982 Hz\n"
     ]
    },
    {
     "name": "stdout",
     "output_type": "stream",
     "text": [
      "Centre Frequency =  89000000\n",
      " The power of all samples in dB =   [-45.12050365 -45.12050365 -45.12050365 ... -45.12050365 -45.12050365\n",
      " -45.12050365]\n",
      " The average power of all samples in dB =   -44.88915570903636\n"
     ]
    },
    {
     "name": "stderr",
     "output_type": "stream",
     "text": [
      "Found Rafael Micro R820T tuner\n",
      "[R82XX] PLL not locked!\n",
      "Exact sample rate is: 2000000.052982 Hz\n"
     ]
    },
    {
     "name": "stdout",
     "output_type": "stream",
     "text": [
      "Centre Frequency =  91000000\n",
      " The power of all samples in dB =   [-45.12050365 -45.12050365 -45.12050365 ... -45.12050365 -45.12050365\n",
      " -45.12050365]\n",
      " The average power of all samples in dB =   -44.88716915314213\n"
     ]
    },
    {
     "name": "stderr",
     "output_type": "stream",
     "text": [
      "Found Rafael Micro R820T tuner\n",
      "[R82XX] PLL not locked!\n",
      "Exact sample rate is: 2000000.052982 Hz\n"
     ]
    },
    {
     "name": "stdout",
     "output_type": "stream",
     "text": [
      "Centre Frequency =  93000000\n",
      " The power of all samples in dB =   [-45.12050365 -45.12050365 -45.12050365 ... -45.12050365 -45.12050365\n",
      " -45.12050365]\n",
      " The average power of all samples in dB =   -44.889901883724704\n"
     ]
    },
    {
     "name": "stderr",
     "output_type": "stream",
     "text": [
      "Found Rafael Micro R820T tuner\n",
      "[R82XX] PLL not locked!\n",
      "Exact sample rate is: 2000000.052982 Hz\n"
     ]
    },
    {
     "name": "stdout",
     "output_type": "stream",
     "text": [
      "Centre Frequency =  95000000\n",
      " The power of all samples in dB =   [-45.12050365 -45.12050365 -45.12050365 ... -45.12050365 -45.12050365\n",
      " -45.12050365]\n",
      " The average power of all samples in dB =   -44.8897683483094\n"
     ]
    },
    {
     "name": "stderr",
     "output_type": "stream",
     "text": [
      "Found Rafael Micro R820T tuner\n",
      "[R82XX] PLL not locked!\n",
      "Exact sample rate is: 2000000.052982 Hz\n"
     ]
    },
    {
     "name": "stdout",
     "output_type": "stream",
     "text": [
      "Centre Frequency =  97000000\n",
      " The power of all samples in dB =   [-45.12050365 -45.12050365 -45.12050365 ... -45.12050365 -38.13080361\n",
      " -45.12050365]\n",
      " The average power of all samples in dB =   -44.89155570664133\n"
     ]
    },
    {
     "name": "stderr",
     "output_type": "stream",
     "text": [
      "Found Rafael Micro R820T tuner\n",
      "[R82XX] PLL not locked!\n",
      "Exact sample rate is: 2000000.052982 Hz\n"
     ]
    },
    {
     "name": "stdout",
     "output_type": "stream",
     "text": [
      "Centre Frequency =  99000000\n",
      " The power of all samples in dB =   [-45.12050365 -45.12050365 -45.12050365 ... -45.12050365 -45.12050365\n",
      " -45.12050365]\n",
      " The average power of all samples in dB =   -44.89241232805665\n"
     ]
    },
    {
     "name": "stderr",
     "output_type": "stream",
     "text": [
      "Found Rafael Micro R820T tuner\n",
      "[R82XX] PLL not locked!\n",
      "Exact sample rate is: 2000000.052982 Hz\n"
     ]
    },
    {
     "name": "stdout",
     "output_type": "stream",
     "text": [
      "Centre Frequency =  101000000\n",
      " The power of all samples in dB =   [-45.12050365 -45.12050365 -45.12050365 ... -45.12050365 -45.12050365\n",
      " -45.12050365]\n",
      " The average power of all samples in dB =   -44.89072282398301\n"
     ]
    },
    {
     "name": "stderr",
     "output_type": "stream",
     "text": [
      "Found Rafael Micro R820T tuner\n",
      "[R82XX] PLL not locked!\n",
      "Exact sample rate is: 2000000.052982 Hz\n"
     ]
    },
    {
     "name": "stdout",
     "output_type": "stream",
     "text": [
      "Centre Frequency =  103000000\n",
      " The power of all samples in dB =   [-45.12050365 -45.12050365 -45.12050365 ... -45.12050365 -45.12050365\n",
      " -45.12050365]\n",
      " The average power of all samples in dB =   -44.89240053854189\n"
     ]
    },
    {
     "name": "stderr",
     "output_type": "stream",
     "text": [
      "Found Rafael Micro R820T tuner\n",
      "[R82XX] PLL not locked!\n",
      "Exact sample rate is: 2000000.052982 Hz\n"
     ]
    },
    {
     "name": "stdout",
     "output_type": "stream",
     "text": [
      "Centre Frequency =  105000000\n",
      " The power of all samples in dB =   [-45.12050365 -45.12050365 -45.12050365 ... -45.12050365 -45.12050365\n",
      " -45.12050365]\n",
      " The average power of all samples in dB =   -44.8926638453295\n"
     ]
    },
    {
     "name": "stderr",
     "output_type": "stream",
     "text": [
      "Found Rafael Micro R820T tuner\n",
      "[R82XX] PLL not locked!\n",
      "Exact sample rate is: 2000000.052982 Hz\n"
     ]
    },
    {
     "name": "stdout",
     "output_type": "stream",
     "text": [
      "Centre Frequency =  107000000\n",
      " The power of all samples in dB =   [-45.12050365 -45.12050365 -45.12050365 ... -45.12050365 -45.12050365\n",
      " -45.12050365]\n",
      " The average power of all samples in dB =   -44.89062854544419\n"
     ]
    }
   ],
   "source": [
    "arrayofpowers = []\n",
    "for i in range (89,109,2):\n",
    "    arrayofpowers.append(averagepower(i)) "
   ]
  },
  {
   "cell_type": "code",
   "execution_count": 43,
   "id": "5d6a83e5",
   "metadata": {},
   "outputs": [
    {
     "name": "stdout",
     "output_type": "stream",
     "text": [
      "[None, None, None, None, None, None, None, None, None, None]\n"
     ]
    }
   ],
   "source": [
    "print(arrayofpowers)"
   ]
  },
  {
   "cell_type": "code",
   "execution_count": 61,
   "id": "43037bd6",
   "metadata": {},
   "outputs": [
    {
     "name": "stderr",
     "output_type": "stream",
     "text": [
      "Found Rafael Micro R820T tuner\n",
      "[R82XX] PLL not locked!\n",
      "Exact sample rate is: 2000000.052982 Hz\n"
     ]
    },
    {
     "name": "stdout",
     "output_type": "stream",
     "text": [
      "Centre Frequency =  89000000\n",
      " The power of all samples in dB =   [-45.12050365 -45.12050365 -45.12050365 ... -45.12050365 -45.12050365\n",
      " -45.12050365]\n",
      " The average power of all samples in dB =   -44.88952092589193\n"
     ]
    },
    {
     "name": "stderr",
     "output_type": "stream",
     "text": [
      "Found Rafael Micro R820T tuner\n",
      "[R82XX] PLL not locked!\n",
      "Exact sample rate is: 2000000.052982 Hz\n"
     ]
    },
    {
     "name": "stdout",
     "output_type": "stream",
     "text": [
      "Centre Frequency =  91000000\n",
      " The power of all samples in dB =   [-45.12050365 -45.12050365 -45.12050365 ... -45.12050365 -45.12050365\n",
      " -45.12050365]\n",
      " The average power of all samples in dB =   -44.88525020227064\n"
     ]
    },
    {
     "name": "stderr",
     "output_type": "stream",
     "text": [
      "Found Rafael Micro R820T tuner\n",
      "[R82XX] PLL not locked!\n",
      "Exact sample rate is: 2000000.052982 Hz\n"
     ]
    },
    {
     "name": "stdout",
     "output_type": "stream",
     "text": [
      "Centre Frequency =  93000000\n",
      " The power of all samples in dB =   [-45.12050365 -45.12050365 -45.12050365 ... -45.12050365 -45.12050365\n",
      " -38.13080361]\n",
      " The average power of all samples in dB =   -44.891622501319944\n"
     ]
    },
    {
     "name": "stderr",
     "output_type": "stream",
     "text": [
      "Found Rafael Micro R820T tuner\n",
      "[R82XX] PLL not locked!\n",
      "Exact sample rate is: 2000000.052982 Hz\n"
     ]
    },
    {
     "name": "stdout",
     "output_type": "stream",
     "text": [
      "Centre Frequency =  95000000\n",
      " The power of all samples in dB =   [-45.12050365 -45.12050365 -45.12050365 ... -45.12050365 -45.12050365\n",
      " -45.12050365]\n",
      " The average power of all samples in dB =   -44.887581308409764\n"
     ]
    },
    {
     "name": "stderr",
     "output_type": "stream",
     "text": [
      "Found Rafael Micro R820T tuner\n",
      "[R82XX] PLL not locked!\n",
      "Exact sample rate is: 2000000.052982 Hz\n"
     ]
    },
    {
     "name": "stdout",
     "output_type": "stream",
     "text": [
      "Centre Frequency =  97000000\n",
      " The power of all samples in dB =   [-45.12050365 -45.12050365 -45.12050365 ... -45.12050365 -45.12050365\n",
      " -45.12050365]\n",
      " The average power of all samples in dB =   -44.890271091242084\n"
     ]
    },
    {
     "name": "stderr",
     "output_type": "stream",
     "text": [
      "Found Rafael Micro R820T tuner\n",
      "[R82XX] PLL not locked!\n",
      "Exact sample rate is: 2000000.052982 Hz\n"
     ]
    },
    {
     "name": "stdout",
     "output_type": "stream",
     "text": [
      "Centre Frequency =  99000000\n",
      " The power of all samples in dB =   [-45.12050365 -45.12050365 -45.12050365 ... -45.12050365 -45.12050365\n",
      " -45.12050365]\n",
      " The average power of all samples in dB =   -44.88997650824517\n"
     ]
    },
    {
     "name": "stderr",
     "output_type": "stream",
     "text": [
      "Found Rafael Micro R820T tuner\n",
      "[R82XX] PLL not locked!\n",
      "Exact sample rate is: 2000000.052982 Hz\n"
     ]
    },
    {
     "name": "stdout",
     "output_type": "stream",
     "text": [
      "Centre Frequency =  101000000\n",
      " The power of all samples in dB =   [-45.12050365 -45.12050365 -45.12050365 ... -45.12050365 -45.12050365\n",
      " -45.12050365]\n",
      " The average power of all samples in dB =   -44.88856278793776\n"
     ]
    },
    {
     "name": "stderr",
     "output_type": "stream",
     "text": [
      "Found Rafael Micro R820T tuner\n",
      "[R82XX] PLL not locked!\n",
      "Exact sample rate is: 2000000.052982 Hz\n"
     ]
    },
    {
     "name": "stdout",
     "output_type": "stream",
     "text": [
      "Centre Frequency =  103000000\n",
      " The power of all samples in dB =   [-45.12050365 -45.12050365 -45.12050365 ... -45.12050365 -45.12050365\n",
      " -45.12050365]\n",
      " The average power of all samples in dB =   -44.887973873604345\n"
     ]
    },
    {
     "name": "stderr",
     "output_type": "stream",
     "text": [
      "Found Rafael Micro R820T tuner\n",
      "[R82XX] PLL not locked!\n",
      "Exact sample rate is: 2000000.052982 Hz\n"
     ]
    },
    {
     "name": "stdout",
     "output_type": "stream",
     "text": [
      "Centre Frequency =  105000000\n",
      " The power of all samples in dB =   [-45.12050365 -45.12050365 -45.12050365 ... -45.12050365 -45.12050365\n",
      " -45.12050365]\n",
      " The average power of all samples in dB =   -44.891127459286736\n"
     ]
    },
    {
     "name": "stderr",
     "output_type": "stream",
     "text": [
      "Found Rafael Micro R820T tuner\n",
      "[R82XX] PLL not locked!\n",
      "Exact sample rate is: 2000000.052982 Hz\n"
     ]
    },
    {
     "name": "stdout",
     "output_type": "stream",
     "text": [
      "Centre Frequency =  107000000\n",
      " The power of all samples in dB =   [-45.12050365 -45.12050365 -45.12050365 ... -45.12050365 -45.12050365\n",
      " -45.12050365]\n",
      " The average power of all samples in dB =   -44.892357310594875\n",
      "[-44.88952092589193, -44.88525020227064, -44.891622501319944, -44.887581308409764, -44.890271091242084, -44.88997650824517, -44.88856278793776, -44.887973873604345, -44.891127459286736, -44.892357310594875]\n"
     ]
    }
   ],
   "source": [
    "listofpowers = []\n",
    "for i in range (89,109,2):\n",
    "    listofpowers.append(averagepower(i)) \n",
    "print(listofpowers)"
   ]
  },
  {
   "cell_type": "code",
   "execution_count": 50,
   "id": "98b80ac0",
   "metadata": {},
   "outputs": [],
   "source": [
    "def Averagepow(lst):\n",
    "    return sum(lst) / len(lst)"
   ]
  },
  {
   "cell_type": "code",
   "execution_count": 69,
   "id": "54882f03",
   "metadata": {},
   "outputs": [
    {
     "name": "stdout",
     "output_type": "stream",
     "text": [
      "-64.88942439688033\n"
     ]
    }
   ],
   "source": [
    "Threshold = Averagepow(listofpowers) - (10*log10(1/0.01))\n",
    "print(Threshold)"
   ]
  },
  {
   "cell_type": "code",
   "execution_count": 55,
   "id": "7a356beb",
   "metadata": {},
   "outputs": [
    {
     "data": {
      "text/plain": [
       "10"
      ]
     },
     "execution_count": 55,
     "metadata": {},
     "output_type": "execute_result"
    }
   ],
   "source": [
    "len(listofpowers)"
   ]
  },
  {
   "cell_type": "code",
   "execution_count": 64,
   "id": "76a29216",
   "metadata": {},
   "outputs": [
    {
     "data": {
      "text/plain": [
       "-448.89424396880327"
      ]
     },
     "execution_count": 64,
     "metadata": {},
     "output_type": "execute_result"
    }
   ],
   "source": [
    "sum(listofpowers)"
   ]
  },
  {
   "cell_type": "code",
   "execution_count": null,
   "id": "d26e8346",
   "metadata": {},
   "outputs": [],
   "source": []
  }
 ],
 "metadata": {
  "kernelspec": {
   "display_name": "Python 3 (ipykernel)",
   "language": "python",
   "name": "python3"
  },
  "language_info": {
   "codemirror_mode": {
    "name": "ipython",
    "version": 3
   },
   "file_extension": ".py",
   "mimetype": "text/x-python",
   "name": "python",
   "nbconvert_exporter": "python",
   "pygments_lexer": "ipython3",
   "version": "3.9.12"
  }
 },
 "nbformat": 4,
 "nbformat_minor": 5
}
